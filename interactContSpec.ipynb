{
 "cells": [
  {
   "cell_type": "code",
   "execution_count": 1,
   "metadata": {},
   "outputs": [],
   "source": [
    "import numpy as np\n",
    "import matplotlib.pyplot as plt"
   ]
  },
  {
   "cell_type": "markdown",
   "metadata": {},
   "source": [
    "# Continuous Spectrum"
   ]
  },
  {
   "cell_type": "code",
   "execution_count": 2,
   "metadata": {},
   "outputs": [],
   "source": [
    "# import ContSpect interactively; this does not run anything!\n",
    "from contSpec import *"
   ]
  },
  {
   "cell_type": "code",
   "execution_count": 3,
   "metadata": {},
   "outputs": [
    {
     "name": "stdout",
     "output_type": "stream",
     "text": [
      "\n",
      "(*) Start\n",
      "(*) Loading Data File: tests/test4.dat...\n",
      "(*) Initial Set up...\t(3.3 seconds)\n",
      "(*) Building the L-curve ...(4.0 seconds)\n",
      "(*) Extracting CRS, ...\n",
      "\t... lamM = 4.649e+00; done (0.2 seconds)\n",
      "(*) Writing and Printing, ...done\n",
      "(*) End\n",
      "\n"
     ]
    },
    {
     "data": {
      "text/plain": [
       "<Figure size 432x288 with 0 Axes>"
      ]
     },
     "metadata": {},
     "output_type": "display_data"
    }
   ],
   "source": [
    "# This runs the code in regular form using inp.dat\n",
    "par = readInput('inp.dat')\n",
    "\n",
    "#par['verbose'] = False\n",
    "\n",
    "par['GexpFile'] = 'tests/test4.dat'\n",
    "par['plateau'] = False\n",
    "\n",
    "par['plotting'] = False\n",
    "\n",
    "s, Hc, G0, lamC = getContSpec(par)\n",
    "plt.clf()"
   ]
  },
  {
   "cell_type": "code",
   "execution_count": 4,
   "metadata": {},
   "outputs": [
    {
     "data": {
      "text/plain": [
       "0.0"
      ]
     },
     "execution_count": 4,
     "metadata": {},
     "output_type": "execute_result"
    }
   ],
   "source": [
    "G0"
   ]
  },
  {
   "cell_type": "code",
   "execution_count": 5,
   "metadata": {},
   "outputs": [
    {
     "name": "stdout",
     "output_type": "stream",
     "text": [
      "(*) Initial Set up..."
     ]
    }
   ],
   "source": [
    "s, w, kernMat, Gexp, wexp, par, lam, rho, eta = guiFurnishGlobals(par);"
   ]
  },
  {
   "cell_type": "markdown",
   "metadata": {},
   "source": [
    "Currently all the variables assigned in the jupyter notebook are visible as global to to guiUpdatePlot."
   ]
  },
  {
   "cell_type": "code",
   "execution_count": 6,
   "metadata": {},
   "outputs": [],
   "source": [
    "def guiUpdatePlot(SmoothFac=0):\n",
    "\n",
    "    lam_min  = 1e-10\n",
    "    lam_max  = 1e+1\n",
    "    \n",
    "    # Dialling in the Smoothness Factor\n",
    "    if SmoothFac > 0:\n",
    "        lamda = np.exp(np.log(lamC) + SmoothFac*(np.log(lam_max) - np.log(lamC)));\n",
    "    elif SmoothFac < 0:\n",
    "        lamda = np.exp(np.log(lamC) + SmoothFac*(np.log(lamC) - np.log(lam_min)));\n",
    "    else:\n",
    "        lamda = lamC\n",
    "        \n",
    "    fig, ax = plt.subplots(figsize=(12,4), nrows=1, ncols=3)\n",
    "\n",
    "    # plotsInteractivity\n",
    "    if par['plateau']:\n",
    "        H, G0 = getH(3.34, Gexp, wexp, Hc, kernMat, par['plateau'])\n",
    "        K = kernel_prestore(H, kernMat, G0)\n",
    "    else:\n",
    "        H = getH(3.34, Gexp, wexp, Hc, kernMat)\n",
    "        K = kernel_prestore(H, kernMat)\n",
    "        \n",
    "    rhost = np.exp(np.interp(np.log(lamC), np.log(lam), np.log(rho)))\n",
    "    etast = np.exp(np.interp(np.log(lamC), np.log(lam), np.log(eta)))\n",
    "\n",
    "    rhox = np.exp(np.interp(np.log(lamda), np.log(lam), np.log(rho)))\n",
    "    etax = np.exp(np.interp(np.log(lamda), np.log(lam), np.log(eta)))\n",
    "    \n",
    "    n = len(w)\n",
    "    \n",
    "    ax[0].loglog(w, Gexp[:n],'g.')\n",
    "    ax[0].loglog(w, Gexp[n:],'g.')\n",
    "\n",
    "    ax[0].loglog(w, K[:n], 'k-')\n",
    "    ax[0].loglog(w, K[n:], 'k-')\n",
    "\n",
    "    ax[0].set_xlabel(r'$\\omega$')\n",
    "    ax[0].set_ylabel(r'$G^{*}$')\n",
    "    \n",
    "    ax[1].semilogx(s,H,'o-')\n",
    "    ax[1].set_xlabel(r'$s$')\n",
    "    ax[1].set_ylabel(r'$H(s)$')\n",
    "\n",
    "    ax[2].plot(rho, eta, 'x-')\n",
    "    ax[2].scatter(rhost, etast, color='k')\n",
    "    ax[2].scatter(rhox, etax, color='g')\n",
    "\n",
    "    ax[2].set_xscale('log')\n",
    "    ax[2].set_yscale('log')    \n",
    "\n",
    "    ax[2].set_xlabel(r'$\\rho$')\n",
    "    ax[2].set_ylabel(r'$\\eta$')\n",
    "    \n",
    "    # figure settings\n",
    "    fig.tight_layout()\n",
    "    \n",
    "    plt.show()"
   ]
  },
  {
   "cell_type": "markdown",
   "metadata": {},
   "source": [
    "### Interactivity"
   ]
  },
  {
   "cell_type": "code",
   "execution_count": 7,
   "metadata": {},
   "outputs": [],
   "source": [
    "from ipywidgets import interact, fixed\n",
    "import ipywidgets as widgets"
   ]
  },
  {
   "cell_type": "code",
   "execution_count": 9,
   "metadata": {},
   "outputs": [
    {
     "data": {
      "image/png": "[encoded data removed]",
      "text/plain": [
       "<Figure size 864x288 with 3 Axes>"
      ]
     },
     "metadata": {
      "needs_background": "light"
     },
     "output_type": "display_data"
    },
    {
     "data": {
      "application/vnd.jupyter.widget-view+json": {
       "model_id": "544957735c224752ace20b98f1dddac1",
       "version_major": 2,
       "version_minor": 0
      },
      "text/plain": [
       "interactive(children=(FloatSlider(value=0.0, continuous_update=False, description='SmoothFac', max=1.0, min=-1…"
      ]
     },
     "metadata": {},
     "output_type": "display_data"
    }
   ],
   "source": [
    "interact(guiUpdatePlot, SmoothFac=widgets.FloatSlider(min=-1, max=1, value=0, step=0.05, continuous_update=False));"
   ]
  },
  {
   "cell_type": "code",
   "execution_count": null,
   "metadata": {},
   "outputs": [],
   "source": []
  }
 ],
 "metadata": {
  "kernelspec": {
   "display_name": "Python 3",
   "language": "python",
   "name": "python3"
  },
  "language_info": {
   "codemirror_mode": {
    "name": "ipython",
    "version": 3
   },
   "file_extension": ".py",
   "mimetype": "text/x-python",
   "name": "python",
   "nbconvert_exporter": "python",
   "pygments_lexer": "ipython3",
   "version": "3.8.10"
  }
 },
 "nbformat": 4,
 "nbformat_minor": 2
}
