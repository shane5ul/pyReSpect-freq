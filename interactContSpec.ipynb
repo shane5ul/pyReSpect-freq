{
 "cells": [
  {
   "cell_type": "code",
   "execution_count": 1,
   "metadata": {
    "collapsed": true
   },
   "outputs": [],
   "source": [
    "import numpy as np\n",
    "import matplotlib.pyplot as plt"
   ]
  },
  {
   "cell_type": "markdown",
   "metadata": {},
   "source": [
    "# Continuous Spectrum"
   ]
  },
  {
   "cell_type": "code",
   "execution_count": 2,
   "metadata": {},
   "outputs": [],
   "source": [
    "# import ContSpect interactively; this does not run anything!\n",
    "from contSpec import *"
   ]
  },
  {
   "cell_type": "code",
   "execution_count": 3,
   "metadata": {},
   "outputs": [
    {
     "name": "stdout",
     "output_type": "stream",
     "text": [
      "Input parameters look OK ...\n",
      "\n",
      "(*) Start\n",
      "(*) Loading Data File: Gst.dat...\n",
      "(*) Initial Set up...\t(2.0 seconds)\n",
      "(*) Building the L-curve ...4.367e-01 (17.9 seconds)\n",
      "(*) Extracting the continuous spectrum, ...done (0.1 seconds)\n",
      "(*) Writing and Printing, ...done\n",
      "(*) End\n",
      "\n"
     ]
    },
    {
     "data": {
      "text/plain": [
       "<matplotlib.figure.Figure at 0x7feeb2e639e8>"
      ]
     },
     "metadata": {},
     "output_type": "display_data"
    }
   ],
   "source": [
    "# This runs the code in regular form using inp.dat\n",
    "par = common.readInput('inp.dat')\n",
    "Hc, lamC = getContSpec(par)\n",
    "plt.clf()"
   ]
  },
  {
   "cell_type": "code",
   "execution_count": 6,
   "metadata": {},
   "outputs": [
    {
     "data": {
      "text/plain": [
       "<matplotlib.figure.Figure at 0x7fee878e6b00>"
      ]
     },
     "metadata": {},
     "output_type": "display_data"
    }
   ],
   "source": [
    "s, w, kernMat, Gexp, par, lam, rho, eta = guiFurnishGlobals(par);"
   ]
  },
  {
   "cell_type": "markdown",
   "metadata": {},
   "source": [
    "Currently all the variables assigned in the jupyter notebook are visible as global to to guiUpdatePlot."
   ]
  },
  {
   "cell_type": "code",
   "execution_count": 13,
   "metadata": {},
   "outputs": [],
   "source": [
    "def guiUpdatePlot(SmoothFac=0):\n",
    "\n",
    "    lam_min  = 1e-10\n",
    "    lam_max  = 1e+1\n",
    "    \n",
    "    # Dialling in the Smoothness Factor\n",
    "    if SmoothFac > 0:\n",
    "        lamda = np.exp(np.log(lamC) + SmoothFac*(np.log(lam_max) - np.log(lamC)));\n",
    "    elif SmoothFac < 0:\n",
    "        lamda = np.exp(np.log(lamC) + SmoothFac*(np.log(lamC) - np.log(lam_min)));\n",
    "    else:\n",
    "        lamda = lamC\n",
    "        \n",
    "    fig, ax = plt.subplots(figsize=(12,4), nrows=1, ncols=3)\n",
    "\n",
    "    # plotsInteractivity\n",
    "    \n",
    "    H     = getH(lamda, Gexp, Hc, kernMat)\n",
    "    K     = common.kernel_prestore(H, kernMat)\n",
    "    rhost = np.exp(np.interp(np.log(lamC), np.log(lam), np.log(rho)))\n",
    "    etast = np.exp(np.interp(np.log(lamC), np.log(lam), np.log(eta)))\n",
    "\n",
    "    rhox = np.exp(np.interp(np.log(lamda), np.log(lam), np.log(rho)))\n",
    "    etax = np.exp(np.interp(np.log(lamda), np.log(lam), np.log(eta)))\n",
    "    \n",
    "    n = len(w)\n",
    "    \n",
    "    ax[0].loglog(w, Gexp[:n],'g.')\n",
    "    ax[0].loglog(w, Gexp[n:],'g.')\n",
    "\n",
    "    ax[0].loglog(w, K[:n], 'k-')\n",
    "    ax[0].loglog(w, K[n:], 'k-')\n",
    "\n",
    "    ax[0].set_xlabel(r'$\\omega$')\n",
    "    ax[0].set_ylabel(r'$G^{*}$$')\n",
    "    \n",
    "    ax[1].semilogx(s,H,'o-')\n",
    "    ax[1].set_xlabel(r'$s$')\n",
    "    ax[1].set_ylabel(r'$H(s)$')\n",
    "\n",
    "    ax[2].plot(rho, eta, 'x-')\n",
    "    ax[2].scatter(rhost, etast, color='k')\n",
    "    ax[2].scatter(rhox, etax, color='g')\n",
    "\n",
    "    ax[2].set_xscale('log')\n",
    "    ax[2].set_yscale('log')    \n",
    "\n",
    "    ax[2].set_xlabel(r'$\\rho$')\n",
    "    ax[2].set_ylabel(r'$\\eta$')\n",
    "    \n",
    "    # figure settings\n",
    "    fig.tight_layout()\n",
    "    \n",
    "    plt.show()"
   ]
  },
  {
   "cell_type": "markdown",
   "metadata": {},
   "source": [
    "### Interactivity"
   ]
  },
  {
   "cell_type": "code",
   "execution_count": 3,
   "metadata": {},
   "outputs": [
    {
     "ename": "ImportError",
     "evalue": "No module named 'ipywidgets'",
     "output_type": "error",
     "traceback": [
      "\u001b[0;31m---------------------------------------------------------------------------\u001b[0m",
      "\u001b[0;31mImportError\u001b[0m                               Traceback (most recent call last)",
      "\u001b[0;32m<ipython-input-3-f0f3d2cc80ae>\u001b[0m in \u001b[0;36m<module>\u001b[0;34m()\u001b[0m\n\u001b[0;32m----> 1\u001b[0;31m \u001b[0;32mfrom\u001b[0m \u001b[0mipywidgets\u001b[0m \u001b[0;32mimport\u001b[0m \u001b[0minteract\u001b[0m\u001b[0;34m,\u001b[0m \u001b[0mfixed\u001b[0m\u001b[0;34m\u001b[0m\u001b[0m\n\u001b[0m\u001b[1;32m      2\u001b[0m \u001b[0;32mimport\u001b[0m \u001b[0mipywidgets\u001b[0m \u001b[0;32mas\u001b[0m \u001b[0mwidgets\u001b[0m\u001b[0;34m\u001b[0m\u001b[0m\n",
      "\u001b[0;31mImportError\u001b[0m: No module named 'ipywidgets'"
     ]
    }
   ],
   "source": [
    "from ipywidgets import interact, fixed\n",
    "import ipywidgets as widgets"
   ]
  },
  {
   "cell_type": "code",
   "execution_count": null,
   "metadata": {},
   "outputs": [],
   "source": [
    "interact(guiUpdatePlot, SmoothFac=widgets.FloatSlider(min=-1, max=1, value=0, step=0.05, continuous_update=False))"
   ]
  },
  {
   "cell_type": "code",
   "execution_count": null,
   "metadata": {
    "collapsed": true
   },
   "outputs": [],
   "source": []
  }
 ],
 "metadata": {
  "kernelspec": {
   "display_name": "Python 3",
   "language": "python",
   "name": "python3"
  },
  "language_info": {
   "codemirror_mode": {
    "name": "ipython",
    "version": 3
   },
   "file_extension": ".py",
   "mimetype": "text/x-python",
   "name": "python",
   "nbconvert_exporter": "python",
   "pygments_lexer": "ipython3",
   "version": "3.5.2"
  }
 },
 "nbformat": 4,
 "nbformat_minor": 2
}
