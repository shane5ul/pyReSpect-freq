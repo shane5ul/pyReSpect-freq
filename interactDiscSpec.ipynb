{
 "cells": [
  {
   "cell_type": "code",
   "execution_count": 1,
   "metadata": {
    "collapsed": true,
    "deletable": true,
    "editable": true
   },
   "outputs": [],
   "source": [
    "import numpy as np\n",
    "import matplotlib.pyplot as plt"
   ]
  },
  {
   "cell_type": "markdown",
   "metadata": {
    "deletable": true,
    "editable": true
   },
   "source": [
    "# Discrete Spectrum"
   ]
  },
  {
   "cell_type": "code",
   "execution_count": 2,
   "metadata": {
    "collapsed": true,
    "deletable": true,
    "editable": true
   },
   "outputs": [],
   "source": [
    "# import DiscSpec\n",
    "from discSpec import *"
   ]
  },
  {
   "cell_type": "code",
   "execution_count": 3,
   "metadata": {
    "collapsed": false,
    "deletable": true,
    "editable": true
   },
   "outputs": [
    {
     "name": "stdout",
     "output_type": "stream",
     "text": [
      "Input parameters look OK ...\n",
      "\n",
      "(*) Start\n",
      "(*) Loading Data Files: ... Gst.dat...\n",
      "\n",
      "(*) Number of optimum nodes = 11\n",
      "\n",
      "(*) Condition number of matrix equation: 6.215290e+06\n",
      "\n",
      "\n",
      "\t\tModes\n",
      "\t\t-----\n",
      "\n",
      "\n",
      "i \t    g(i) \t    tau(i)\n",
      "\n",
      "---------------------------------------\n",
      "\n",
      "  1 \t 5.75863e+05 \t 2.49924e-06\n",
      "  2 \t 1.09701e+05 \t 2.56669e-05\n",
      "  3 \t 3.70891e+04 \t 5.62198e-05\n",
      "  4 \t 5.59196e+04 \t 1.06393e-04\n",
      "  5 \t 1.09827e+05 \t 2.76627e-04\n",
      "  6 \t 2.40386e+04 \t 4.68557e-04\n",
      "  7 \t 2.29731e+04 \t 1.25809e-03\n",
      "  8 \t 7.91427e+03 \t 9.17437e-03\n",
      "  9 \t 5.21225e+03 \t 8.81929e-02\n",
      " 10 \t 5.19649e+03 \t 8.84061e-01\n",
      " 11 \t 6.13215e+01 \t 1.02413e+01\n",
      "\n",
      "\n"
     ]
    }
   ],
   "source": [
    "# This runs the code in regular form using inp.dat\n",
    "par = common.readInput('inp.dat')\n",
    "_, g, tau, _ = getDiscSpec(par)\n",
    "plt.clf()"
   ]
  },
  {
   "cell_type": "code",
   "execution_count": 4,
   "metadata": {
    "collapsed": true,
    "deletable": true,
    "editable": true
   },
   "outputs": [],
   "source": [
    "def guiFurnishGlobals(par):\n",
    "\n",
    "    # toggle flags to prevent printing    \n",
    "    par['verbose'] = False\n",
    "    par['plotting'] = False\n",
    "    \n",
    "    # Read experimental data\n",
    "    w, Gexp = common.GetExpData(par['GexpFile'])\n",
    "\n",
    "    # Read continuous spectrum\n",
    "    s, H    = np.loadtxt('output/H.dat', unpack=True)    \n",
    "\n",
    "    # Read continuous fit\n",
    "    _, GpC, GppC = np.loadtxt('output/Gfit.dat', unpack=True)\n",
    "    Gfitc = np.hstack([GpC, GppC])\n",
    "    \n",
    "    wt  = GetWeights(H, w, s)\n",
    "    wt  = wt/np.trapz(wt, np.log(s))\n",
    "    \n",
    "    return s, H, w, Gexp, Gfitc, wt"
   ]
  },
  {
   "cell_type": "code",
   "execution_count": 5,
   "metadata": {
    "collapsed": true,
    "deletable": true,
    "editable": true
   },
   "outputs": [],
   "source": [
    "s, H, w, Gexp, Gfitc, wt0 = guiFurnishGlobals(par)"
   ]
  },
  {
   "cell_type": "code",
   "execution_count": 6,
   "metadata": {
    "collapsed": true,
    "deletable": true,
    "editable": true
   },
   "outputs": [],
   "source": [
    "def guiUpdatePlot(BaseDistWt=0.5, condWt=0.5):\n",
    "    \n",
    "    wt  = (1. - BaseDistWt) * wt0 + BaseDistWt*np.mean(wt0)*np.ones(len(wt0))\n",
    "\n",
    "    # calculation\n",
    "    n     = len(w)\n",
    "\n",
    "    Nmax  = min(np.floor(3.0 * np.log10(max(w)/min(w))),n/4); # maximum N\n",
    "    Nmin  = max(np.floor(0.5 * np.log10(max(w)/min(w))),3);   # minimum N\n",
    "\n",
    "    Nv    = np.arange(Nmin, Nmax + 1).astype(int)\n",
    "    npts  = len(Nv)\n",
    "    ev    = np.zeros(npts)\n",
    "    condN = np.zeros(npts)\n",
    "\n",
    "    for i in np.arange(npts):\n",
    "        N      = Nv[i]\n",
    "        z, hz  = GridDensity(np.log(s),wt,N)     # Select \"tau\" Points\n",
    "\n",
    "        # Get g_i\n",
    "        g, tau, ev[i], condN[i] = MaxwellModes(z, w, Gexp)    \n",
    "\n",
    "    emin     = min(ev);\n",
    "    condNmin = min(condN);\n",
    "    cost     = (1 - par['condWt']) * (ev - emin)**2 + par['condWt']  * (np.log(condN/condNmin))**2\n",
    "    \n",
    "    # optimum\n",
    "    Nopt               = Nv[np.argmin(cost)] \n",
    "    z, hz              = GridDensity(np.log(s),wt,Nopt)             # Select \"tau\" Points\n",
    "    g, tau, error, cKp = MaxwellModes(z, w, Gexp)   # Get g_i\n",
    "    \n",
    "    # plotting\n",
    "    \n",
    "    fig, ax = plt.subplots(figsize=(14,4), nrows=1, ncols=3)\n",
    "\n",
    "    # continuous and discrete spectra\n",
    "    ax[0].loglog(tau, g,'o-', label='disc')\n",
    "    ax[0].loglog(s, np.exp(H), label='cont')\n",
    "    ax[0].set_xlabel(r'$\\tau$')\n",
    "    ax[0].set_ylabel(r'$g$')\n",
    "    ax[0].legend(loc='lower right')\n",
    "\n",
    "    # predicted and actual values\n",
    "    S, W    = np.meshgrid(tau, w)    \n",
    "    ws      = S*W\n",
    "    ws2     = ws**2\n",
    "    K       = np.vstack((ws2/(1+ws2), ws/(1+ws2)))   # 2n * nmodes\n",
    "    GstM    = np.dot(K, g)\n",
    " \n",
    "    ax[1].loglog(w, Gexp[:n],'g.')\n",
    "    ax[1].loglog(w, Gexp[n:],'g.')\n",
    "\n",
    "    ax[1].loglog(w, GstM[:n], 'k-', label='disc')\n",
    "    ax[1].loglog(w, GstM[n:], 'k-')\n",
    "\n",
    "    ax[1].loglog(w, Gfitc[:n], 'r--', label='cont')\n",
    "    ax[1].loglog(w, Gfitc[n:], 'r--')\n",
    "\n",
    "    ax[1].set_xlabel(r'$\\omega$')\n",
    "    ax[1].set_ylabel(r'$G^{*}$')    \n",
    "    \n",
    "    ax[1].legend(loc='lower right')\n",
    "\n",
    "    ax[2].plot(Nv, ev, label='error')\n",
    "    ax[2].plot(Nv, condN, label='cond#')\n",
    "    ax[2].plot(Nv, cost, '--', label='costFn')\n",
    "    ax[2].set_yscale('log')\n",
    "    ax[2].set_xlabel('# modes')\n",
    "    ax[2].scatter(Nopt, np.min(cost))\n",
    "    ax[2].legend()\n",
    "\n",
    "    # figure settings\n",
    "    fig.tight_layout()\n",
    "    \n",
    "    plt.show()    "
   ]
  },
  {
   "cell_type": "code",
   "execution_count": 7,
   "metadata": {
    "collapsed": false,
    "deletable": true,
    "editable": true
   },
   "outputs": [
    {
     "data": {
      "text/plain": [
       "<matplotlib.figure.Figure at 0x7f436458d9b0>"
      ]
     },
     "metadata": {},
     "output_type": "display_data"
    },
    {
     "data": {
      "image/png": "[encoded data removed]",
      "text/plain": [
       "<matplotlib.figure.Figure at 0x7f42ffae9828>"
      ]
     },
     "metadata": {},
     "output_type": "display_data"
    }
   ],
   "source": [
    "guiUpdatePlot(BaseDistWt=0.5, condWt=0.5)"
   ]
  },
  {
   "cell_type": "markdown",
   "metadata": {
    "deletable": true,
    "editable": true
   },
   "source": [
    "### Interactivity"
   ]
  },
  {
   "cell_type": "code",
   "execution_count": 8,
   "metadata": {
    "collapsed": false,
    "deletable": true,
    "editable": true
   },
   "outputs": [],
   "source": [
    "from ipywidgets import interact, fixed\n",
    "import ipywidgets as widgets"
   ]
  },
  {
   "cell_type": "code",
   "execution_count": 9,
   "metadata": {
    "collapsed": false,
    "deletable": true,
    "editable": true
   },
   "outputs": [
    {
     "data": {
      "application/vnd.jupyter.widget-view+json": {
       "model_id": "9012a91b4d6148998fbba16408359e23"
      }
     },
     "metadata": {},
     "output_type": "display_data"
    },
    {
     "data": {
      "text/plain": [
       "<function __main__.guiUpdatePlot>"
      ]
     },
     "execution_count": 9,
     "metadata": {},
     "output_type": "execute_result"
    }
   ],
   "source": [
    "SBaseDistWt = widgets.FloatSlider(min=0, max=1, value=0.5, step=0.05, continuous_update=False)\n",
    "ScondWt = widgets.FloatSlider(min=0, max=1, value=0.5, step=0.05, continuous_update=False)\n",
    "interact(guiUpdatePlot, BaseDistWt=SBaseDistWt, condWt=ScondWt)"
   ]
  },
  {
   "cell_type": "code",
   "execution_count": null,
   "metadata": {
    "collapsed": true,
    "deletable": true,
    "editable": true
   },
   "outputs": [],
   "source": []
  },
  {
   "cell_type": "code",
   "execution_count": null,
   "metadata": {
    "collapsed": true
   },
   "outputs": [],
   "source": []
  }
 ],
 "metadata": {
  "kernelspec": {
   "display_name": "Python 3",
   "language": "python",
   "name": "python3"
  },
  "language_info": {
   "codemirror_mode": {
    "name": "ipython",
    "version": 3
   },
   "file_extension": ".py",
   "mimetype": "text/x-python",
   "name": "python",
   "nbconvert_exporter": "python",
   "pygments_lexer": "ipython3",
   "version": "3.5.2"
  }
 },
 "nbformat": 4,
 "nbformat_minor": 2
}
